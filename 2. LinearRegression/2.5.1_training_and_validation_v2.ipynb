{
 "cells": [
  {
   "cell_type": "markdown",
   "metadata": {},
   "source": [
    "<a href=\"http://cocl.us/pytorch_link_top\">\n",
    "    <img src=\"https://s3-api.us-geo.objectstorage.softlayer.net/cf-courses-data/CognitiveClass/DL0110EN/notebook_images%20/Pytochtop.png\" width=\"750\" alt=\"IBM Product \" />\n",
    "</a> "
   ]
  },
  {
   "cell_type": "markdown",
   "metadata": {},
   "source": [
    "<img src=\"https://s3-api.us-geo.objectstorage.softlayer.net/cf-courses-data/CognitiveClass/DL0110EN/notebook_images%20/cc-logo-square.png\" width=\"200\" alt=\"cognitiveclass.ai logo\" />"
   ]
  },
  {
   "cell_type": "markdown",
   "metadata": {},
   "source": [
    "<h1>Linear regression: Training and Validation Data</h1> "
   ]
  },
  {
   "cell_type": "markdown",
   "metadata": {},
   "source": [
    "<h2>Table of Contents</h2>\n",
    "<p>In this lab, you will learn to select the best learning rate by using validation data.</p>\n",
    "\n",
    "<ul>\n",
    "    <li><a href=\"#Makeup_Data\">Make Some Data</a></li>\n",
    "    <li><a href=\"#LR_Loader_Cost\">Create a Linear Regression Object, Data Loader and Criterion Function</a></li>\n",
    "    <li><a href=\"#LR_Hyper\">Different learning rates and Data Structures to Store results for Different Hyperparameters</a></li>\n",
    "    <li><a href=\"#Model\">Train different modules for different Hyperparameters</a></li>\n",
    "    <li><a href=\"#Result\">View Results</a></li>\n",
    "</ul>\n",
    "\n",
    "<p>Estimated Time Needed: <strong>30 min</strong></p>\n",
    "\n",
    "<hr>"
   ]
  },
  {
   "cell_type": "markdown",
   "metadata": {},
   "source": [
    "<h2>Preparation</h2>"
   ]
  },
  {
   "cell_type": "markdown",
   "metadata": {},
   "source": [
    "We'll need the following libraries and set the random seed."
   ]
  },
  {
   "cell_type": "code",
   "execution_count": 1,
   "metadata": {},
   "outputs": [],
   "source": [
    "# Import libraries we need for this lab, and set the random seed\n",
    "\n",
    "from torch import nn\n",
    "import torch\n",
    "import numpy as np\n",
    "import matplotlib.pyplot as plt\n",
    "from torch import nn,optim"
   ]
  },
  {
   "cell_type": "markdown",
   "metadata": {},
   "source": [
    "<!--Empty Space for separating topics-->"
   ]
  },
  {
   "cell_type": "markdown",
   "metadata": {},
   "source": [
    "<h2 id=\"Makeup_Data\">Make Some Data</h2>"
   ]
  },
  {
   "cell_type": "markdown",
   "metadata": {},
   "source": [
    "First, we'll create some artificial data in a dataset class. The class will include the option to produce training data or validation data. The training data will include outliers."
   ]
  },
  {
   "cell_type": "code",
   "execution_count": 2,
   "metadata": {},
   "outputs": [],
   "source": [
    "# Create Data class\n",
    "\n",
    "from torch.utils.data import Dataset, DataLoader\n",
    "\n",
    "class Data(Dataset):\n",
    "    \n",
    "    # Constructor\n",
    "    def __init__(self, train = True):\n",
    "            self.x = torch.arange(-3, 3, 0.1).view(-1, 1)\n",
    "            self.f = -3 * self.x + 1\n",
    "            self.y = self.f + 0.1 * torch.randn(self.x.size())\n",
    "            self.len = self.x.shape[0]\n",
    "            \n",
    "            #outliers \n",
    "            if train == True:\n",
    "                self.y[0] = 0\n",
    "                self.y[50:55] = 20\n",
    "            else:\n",
    "                pass\n",
    "      \n",
    "    # Getter\n",
    "    def __getitem__(self, index):    \n",
    "        return self.x[index], self.y[index]\n",
    "    \n",
    "    # Get Length\n",
    "    def __len__(self):\n",
    "        return self.len"
   ]
  },
  {
   "cell_type": "markdown",
   "metadata": {},
   "source": [
    "Create two objects: one that contains training data and a second that contains validation data. Assume that the training data has the outliers. "
   ]
  },
  {
   "cell_type": "code",
   "execution_count": 3,
   "metadata": {},
   "outputs": [],
   "source": [
    "# Create training dataset and validation dataset\n",
    "\n",
    "train_data = Data()\n",
    "val_data = Data(train = False)"
   ]
  },
  {
   "cell_type": "markdown",
   "metadata": {},
   "source": [
    "Overlay the training points in red over the function that generated the data. Notice the outliers at x=-3 and around x=2:"
   ]
  },
  {
   "cell_type": "code",
   "execution_count": 4,
   "metadata": {},
   "outputs": [
    {
     "data": {
      "image/png": "[encoded data removed]",
      "text/plain": [
       "<Figure size 432x288 with 1 Axes>"
      ]
     },
     "metadata": {
      "needs_background": "light"
     },
     "output_type": "display_data"
    }
   ],
   "source": [
    "# Plot out training points\n",
    "\n",
    "plt.plot(train_data.x.numpy(), train_data.y.numpy(), 'xr')\n",
    "plt.plot(train_data.x.numpy(), train_data.f.numpy())\n",
    "plt.show()"
   ]
  },
  {
   "cell_type": "markdown",
   "metadata": {},
   "source": [
    "<!--Empty Space for separating topics-->"
   ]
  },
  {
   "cell_type": "markdown",
   "metadata": {},
   "source": [
    "<h2 id=\"LR_Loader_Cost\">Create a Linear Regression Object,  Data Loader, and Criterion Function</h2>"
   ]
  },
  {
   "cell_type": "code",
   "execution_count": 5,
   "metadata": {},
   "outputs": [],
   "source": [
    "# Create Linear Regression Class\n",
    "\n",
    "from torch import nn\n",
    "\n",
    "class linear_regression(nn.Module):\n",
    "    \n",
    "    # Constructor\n",
    "    def __init__(self, input_size, output_size):\n",
    "        super(linear_regression, self).__init__()\n",
    "        self.linear = nn.Linear(input_size, output_size)\n",
    "    \n",
    "    # Prediction function\n",
    "    def forward(self, x):\n",
    "        yhat = self.linear(x)\n",
    "        return yhat"
   ]
  },
  {
   "cell_type": "markdown",
   "metadata": {},
   "source": [
    "Create the criterion function and a <code>DataLoader</code> object: "
   ]
  },
  {
   "cell_type": "code",
   "execution_count": 6,
   "metadata": {},
   "outputs": [],
   "source": [
    "# Create MSELoss function and DataLoader\n",
    "\n",
    "criterion = nn.MSELoss()\n",
    "trainloader = DataLoader(dataset = train_data, batch_size = 1)"
   ]
  },
  {
   "cell_type": "markdown",
   "metadata": {},
   "source": [
    "<!--Empty Space for separating topics-->"
   ]
  },
  {
   "cell_type": "markdown",
   "metadata": {},
   "source": [
    "<h2 id=\"LR_Hyper\">Different learning rates and Data Structures to Store results for different Hyperparameters</h2>"
   ]
  },
  {
   "cell_type": "markdown",
   "metadata": {},
   "source": [
    "Create a list with different learning rates and a tensor (can be a list) for the training and validating cost/total loss. Include the list MODELS, which stores the training model for every value of the learning rate. "
   ]
  },
  {
   "cell_type": "code",
   "execution_count": 7,
   "metadata": {},
   "outputs": [],
   "source": [
    "# Create Learning Rate list, the error lists and the MODELS list\n",
    "\n",
    "learning_rates=[0.0001, 0.001, 0.01, 0.1]\n",
    "\n",
    "train_error=torch.zeros(len(learning_rates))\n",
    "validation_error=torch.zeros(len(learning_rates))\n",
    "\n",
    "MODELS=[]"
   ]
  },
  {
   "cell_type": "markdown",
   "metadata": {},
   "source": [
    "<!--Empty Space for separating topics-->"
   ]
  },
  {
   "cell_type": "markdown",
   "metadata": {},
   "source": [
    "<h2 id=\"Model\">Train different models  for different Hyperparameters</h2>"
   ]
  },
  {
   "cell_type": "markdown",
   "metadata": {},
   "source": [
    "Try different values of learning rates, perform stochastic gradient descent, and save the results on the training data and validation data. Finally, save each model in a list."
   ]
  },
  {
   "cell_type": "code",
   "execution_count": 8,
   "metadata": {},
   "outputs": [],
   "source": [
    "# Define the train model function and train the model\n",
    "\n",
    "def train_model_with_lr (iter, lr_list):\n",
    "    \n",
    "    # iterate through different learning rates \n",
    "    for i, lr in enumerate(lr_list):\n",
    "        model = linear_regression(1, 1)\n",
    "        optimizer = optim.SGD(model.parameters(), lr = lr)\n",
    "        for epoch in range(iter):\n",
    "            for x, y in trainloader:\n",
    "                yhat = model(x)\n",
    "                loss = criterion(yhat, y)\n",
    "                optimizer.zero_grad()\n",
    "                loss.backward()\n",
    "                optimizer.step()\n",
    "                \n",
    "        # train data\n",
    "        Yhat = model(train_data.x)\n",
    "        train_loss = criterion(Yhat, train_data.y)\n",
    "        train_error[i] = train_loss.item()\n",
    "    \n",
    "        # validation data\n",
    "        Yhat = model(val_data.x)\n",
    "        val_loss = criterion(Yhat, val_data.y)\n",
    "        validation_error[i] = val_loss.item()\n",
    "        MODELS.append(model)\n",
    "\n",
    "train_model_with_lr(10, learning_rates)"
   ]
  },
  {
   "cell_type": "markdown",
   "metadata": {},
   "source": [
    "<!--Empty Space for separating topics-->"
   ]
  },
  {
   "cell_type": "markdown",
   "metadata": {},
   "source": [
    "<h2 id=\"Result\">View the Results</h2>"
   ]
  },
  {
   "cell_type": "markdown",
   "metadata": {},
   "source": [
    "Plot the training loss and validation loss for each learning rate:  "
   ]
  },
  {
   "cell_type": "code",
   "execution_count": 9,
   "metadata": {},
   "outputs": [
    {
     "data": {
      "image/png": "[encoded data removed]",
      "text/plain": [
       "<Figure size 432x288 with 1 Axes>"
      ]
     },
     "metadata": {
      "needs_background": "light"
     },
     "output_type": "display_data"
    }
   ],
   "source": [
    "# Plot the training loss and validation loss\n",
    "\n",
    "plt.semilogx(np.array(learning_rates), train_error.numpy(), label = 'training loss/total Loss')\n",
    "plt.semilogx(np.array(learning_rates), validation_error.numpy(), label = 'validation cost/total Loss')\n",
    "plt.ylabel('Cost\\ Total Loss')\n",
    "plt.xlabel('learning rate')\n",
    "plt.legend()\n",
    "plt.show()"
   ]
  },
  {
   "cell_type": "markdown",
   "metadata": {},
   "source": [
    "Produce a prediction by using the validation data for each model:  "
   ]
  },
  {
   "cell_type": "code",
   "execution_count": 10,
   "metadata": {},
   "outputs": [
    {
     "name": "stdout",
     "output_type": "stream",
     "text": [
      "i [[2.8744822]\n",
      " [2.7905488]\n",
      " [2.7066152]]\n",
      "i [[5.6583576]\n",
      " [5.5398946]\n",
      " [5.421431 ]]\n",
      "i [[6.6248055]\n",
      " [6.490194 ]\n",
      " [6.3555813]]\n",
      "i [[14.665192]\n",
      " [14.224309]\n",
      " [13.783424]]\n"
     ]
    },
    {
     "data": {
      "image/png": "[encoded data removed]",
      "text/plain": [
       "<Figure size 432x288 with 1 Axes>"
      ]
     },
     "metadata": {
      "needs_background": "light"
     },
     "output_type": "display_data"
    }
   ],
   "source": [
    "# Plot the predictions\n",
    "\n",
    "i = 0\n",
    "for model, learning_rate in zip(MODELS, learning_rates):\n",
    "    yhat = model(val_data.x)\n",
    "    plt.plot(val_data.x.numpy(), yhat.detach().numpy(), label = 'lr:' + str(learning_rate))\n",
    "    print('i', yhat.detach().numpy()[0:3])\n",
    "plt.plot(val_data.x.numpy(), val_data.f.numpy(), 'or', label = 'validation data')\n",
    "plt.xlabel('x')\n",
    "plt.ylabel('y')\n",
    "plt.legend()\n",
    "plt.show()"
   ]
  },
  {
   "cell_type": "markdown",
   "metadata": {},
   "source": [
    "<!--Empty Space for separating topics-->"
   ]
  },
  {
   "cell_type": "markdown",
   "metadata": {},
   "source": [
    "<h3>Practice</h3>"
   ]
  },
  {
   "cell_type": "markdown",
   "metadata": {},
   "source": [
    "The object <code>good_model</code> is the best performing model. Use the train loader to get the data samples x and y. Produce an estimate for <code>yhat</code> and print it out for every sample in a for a loop. Compare it to the actual prediction <code>y</code>."
   ]
  },
  {
   "cell_type": "code",
   "execution_count": 12,
   "metadata": {},
   "outputs": [
    {
     "name": "stdout",
     "output_type": "stream",
     "text": [
      "yhat=  tensor([[6.6248]], grad_fn=<AddmmBackward>) y tensor([[0.]])\n",
      "yhat=  tensor([[6.4902]], grad_fn=<AddmmBackward>) y tensor([[9.7317]])\n",
      "yhat=  tensor([[6.3556]], grad_fn=<AddmmBackward>) y tensor([[9.1847]])\n",
      "yhat=  tensor([[6.2210]], grad_fn=<AddmmBackward>) y tensor([[9.2401]])\n",
      "yhat=  tensor([[6.0864]], grad_fn=<AddmmBackward>) y tensor([[8.5793]])\n",
      "yhat=  tensor([[5.9517]], grad_fn=<AddmmBackward>) y tensor([[8.5588]])\n",
      "yhat=  tensor([[5.8171]], grad_fn=<AddmmBackward>) y tensor([[8.0591]])\n",
      "yhat=  tensor([[5.6825]], grad_fn=<AddmmBackward>) y tensor([[7.8873]])\n",
      "yhat=  tensor([[5.5479]], grad_fn=<AddmmBackward>) y tensor([[7.6818]])\n",
      "yhat=  tensor([[5.4133]], grad_fn=<AddmmBackward>) y tensor([[7.4651]])\n",
      "yhat=  tensor([[5.2787]], grad_fn=<AddmmBackward>) y tensor([[7.0480]])\n",
      "yhat=  tensor([[5.1441]], grad_fn=<AddmmBackward>) y tensor([[6.7792]])\n",
      "yhat=  tensor([[5.0095]], grad_fn=<AddmmBackward>) y tensor([[6.4132]])\n",
      "yhat=  tensor([[4.8748]], grad_fn=<AddmmBackward>) y tensor([[6.2276]])\n",
      "yhat=  tensor([[4.7402]], grad_fn=<AddmmBackward>) y tensor([[5.6929]])\n",
      "yhat=  tensor([[4.6056]], grad_fn=<AddmmBackward>) y tensor([[5.5489]])\n",
      "yhat=  tensor([[4.4710]], grad_fn=<AddmmBackward>) y tensor([[5.3973]])\n",
      "yhat=  tensor([[4.3364]], grad_fn=<AddmmBackward>) y tensor([[5.0117]])\n",
      "yhat=  tensor([[4.2018]], grad_fn=<AddmmBackward>) y tensor([[4.5180]])\n",
      "yhat=  tensor([[4.0672]], grad_fn=<AddmmBackward>) y tensor([[4.0450]])\n",
      "yhat=  tensor([[3.9326]], grad_fn=<AddmmBackward>) y tensor([[4.0786]])\n",
      "yhat=  tensor([[3.7979]], grad_fn=<AddmmBackward>) y tensor([[3.6136]])\n",
      "yhat=  tensor([[3.6633]], grad_fn=<AddmmBackward>) y tensor([[3.3875]])\n",
      "yhat=  tensor([[3.5287]], grad_fn=<AddmmBackward>) y tensor([[2.9559]])\n",
      "yhat=  tensor([[3.3941]], grad_fn=<AddmmBackward>) y tensor([[2.9918]])\n",
      "yhat=  tensor([[3.2595]], grad_fn=<AddmmBackward>) y tensor([[2.4942]])\n",
      "yhat=  tensor([[3.1249]], grad_fn=<AddmmBackward>) y tensor([[2.2457]])\n",
      "yhat=  tensor([[2.9903]], grad_fn=<AddmmBackward>) y tensor([[2.0441]])\n",
      "yhat=  tensor([[2.8557]], grad_fn=<AddmmBackward>) y tensor([[1.7774]])\n",
      "yhat=  tensor([[2.7211]], grad_fn=<AddmmBackward>) y tensor([[1.3288]])\n",
      "yhat=  tensor([[2.5864]], grad_fn=<AddmmBackward>) y tensor([[1.0630]])\n",
      "yhat=  tensor([[2.4518]], grad_fn=<AddmmBackward>) y tensor([[0.7328]])\n",
      "yhat=  tensor([[2.3172]], grad_fn=<AddmmBackward>) y tensor([[0.3449]])\n",
      "yhat=  tensor([[2.1826]], grad_fn=<AddmmBackward>) y tensor([[-0.0357]])\n",
      "yhat=  tensor([[2.0480]], grad_fn=<AddmmBackward>) y tensor([[-0.4006]])\n",
      "yhat=  tensor([[1.9134]], grad_fn=<AddmmBackward>) y tensor([[-0.5964]])\n",
      "yhat=  tensor([[1.7788]], grad_fn=<AddmmBackward>) y tensor([[-0.5712]])\n",
      "yhat=  tensor([[1.6442]], grad_fn=<AddmmBackward>) y tensor([[-1.0091]])\n",
      "yhat=  tensor([[1.5095]], grad_fn=<AddmmBackward>) y tensor([[-1.4146]])\n",
      "yhat=  tensor([[1.3749]], grad_fn=<AddmmBackward>) y tensor([[-1.5643]])\n",
      "yhat=  tensor([[1.2403]], grad_fn=<AddmmBackward>) y tensor([[-2.0391]])\n",
      "yhat=  tensor([[1.1057]], grad_fn=<AddmmBackward>) y tensor([[-2.2897]])\n",
      "yhat=  tensor([[0.9711]], grad_fn=<AddmmBackward>) y tensor([[-2.4433]])\n",
      "yhat=  tensor([[0.8365]], grad_fn=<AddmmBackward>) y tensor([[-2.9436]])\n",
      "yhat=  tensor([[0.7019]], grad_fn=<AddmmBackward>) y tensor([[-3.0484]])\n",
      "yhat=  tensor([[0.5673]], grad_fn=<AddmmBackward>) y tensor([[-3.4843]])\n",
      "yhat=  tensor([[0.4326]], grad_fn=<AddmmBackward>) y tensor([[-3.8483]])\n",
      "yhat=  tensor([[0.2980]], grad_fn=<AddmmBackward>) y tensor([[-4.0854]])\n",
      "yhat=  tensor([[0.1634]], grad_fn=<AddmmBackward>) y tensor([[-4.2309]])\n",
      "yhat=  tensor([[0.0288]], grad_fn=<AddmmBackward>) y tensor([[-4.6846]])\n",
      "yhat=  tensor([[-0.1058]], grad_fn=<AddmmBackward>) y tensor([[20.]])\n",
      "yhat=  tensor([[-0.2404]], grad_fn=<AddmmBackward>) y tensor([[20.]])\n",
      "yhat=  tensor([[-0.3750]], grad_fn=<AddmmBackward>) y tensor([[20.]])\n",
      "yhat=  tensor([[-0.5096]], grad_fn=<AddmmBackward>) y tensor([[20.]])\n",
      "yhat=  tensor([[-0.6443]], grad_fn=<AddmmBackward>) y tensor([[20.]])\n",
      "yhat=  tensor([[-0.7789]], grad_fn=<AddmmBackward>) y tensor([[-6.4966]])\n",
      "yhat=  tensor([[-0.9135]], grad_fn=<AddmmBackward>) y tensor([[-6.7536]])\n",
      "yhat=  tensor([[-1.0481]], grad_fn=<AddmmBackward>) y tensor([[-7.0741]])\n",
      "yhat=  tensor([[-1.1827]], grad_fn=<AddmmBackward>) y tensor([[-7.3467]])\n",
      "yhat=  tensor([[-1.3173]], grad_fn=<AddmmBackward>) y tensor([[-7.7916]])\n"
     ]
    }
   ],
   "source": [
    "# Practice: Use the train loader to get the data samples x and y. Produce yhat. Compare y and yhat.\n",
    "\n",
    "good_model = MODELS[2]\n",
    "\n",
    "for x, y in trainloader:\n",
    "    print(\"yhat= \", good_model(x),\"y\", y)"
   ]
  },
  {
   "cell_type": "markdown",
   "metadata": {},
   "source": [
    "<!--Empty Space for separating topics-->"
   ]
  },
  {
   "cell_type": "markdown",
   "metadata": {},
   "source": [
    "<a href=\"http://cocl.us/pytorch_link_bottom\">\n",
    "    <img src=\"https://s3-api.us-geo.objectstorage.softlayer.net/cf-courses-data/CognitiveClass/DL0110EN/notebook_images%20/notebook_bottom%20.png\" width=\"750\" alt=\"PyTorch Bottom\" />\n",
    "</a>"
   ]
  },
  {
   "cell_type": "markdown",
   "metadata": {},
   "source": [
    "<h2>About the Authors:</h2> \n",
    "\n",
    "<a href=\"https://www.linkedin.com/in/joseph-s-50398b136/\">Joseph Santarcangelo</a> has a PhD in Electrical Engineering, his research focused on using machine learning, signal processing, and computer vision to determine how videos impact human cognition. Joseph has been working for IBM since he completed his PhD. "
   ]
  },
  {
   "cell_type": "markdown",
   "metadata": {},
   "source": [
    "Other contributors: <a href=\"https://www.linkedin.com/in/michelleccarey/\">Michelle Carey</a>, <a href=\"www.linkedin.com/in/jiahui-mavis-zhou-a4537814a\">Mavis Zhou</a>"
   ]
  },
  {
   "cell_type": "markdown",
   "metadata": {},
   "source": [
    "<hr>"
   ]
  },
  {
   "cell_type": "markdown",
   "metadata": {},
   "source": [
    "Copyright &copy; 2018 <a href=\"cognitiveclass.ai?utm_source=bducopyrightlink&utm_medium=dswb&utm_campaign=bdu\">cognitiveclass.ai</a>. This notebook and its source code are released under the terms of the <a href=\"https://bigdatauniversity.com/mit-license/\">MIT License</a>."
   ]
  }
 ],
 "metadata": {
  "kernelspec": {
   "display_name": "Python",
   "language": "python",
   "name": "conda-env-python-py"
  },
  "language_info": {
   "codemirror_mode": {
    "name": "ipython",
    "version": 3
   },
   "file_extension": ".py",
   "mimetype": "text/x-python",
   "name": "python",
   "nbconvert_exporter": "python",
   "pygments_lexer": "ipython3",
   "version": "3.6.10"
  }
 },
 "nbformat": 4,
 "nbformat_minor": 4
}
